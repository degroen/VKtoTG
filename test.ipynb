{
 "cells": [
  {
   "cell_type": "code",
   "execution_count": 1,
   "metadata": {
    "collapsed": true,
    "pycharm": {
     "is_executing": false
    }
   },
   "outputs": [],
   "source": [
    "import requests\n",
    "from bs4 import BeautifulSoup\n",
    "import time\n",
    "import re\n",
    "import datetime\n",
    "import telebot\n"
   ]
  },
  {
   "cell_type": "code",
   "execution_count": 2,
   "metadata": {
    "pycharm": {
     "is_executing": false,
     "name": "#%%\n"
    }
   },
   "outputs": [],
   "source": [
    "TIMEOUT = 60 * 5\n",
    "TOKEN = \"\"\n",
    "path = \"https://api.telegram.org/bot\" + TOKEN + \"/\"\n",
    "VKpath = \"https://api.vk.com/method/\"\n",
    "access_token = \"\"\n",
    "chatID = \n",
    "v = \"5.122\""
   ]
  },
  {
   "cell_type": "code",
   "execution_count": 7,
   "metadata": {
    "pycharm": {
     "is_executing": false,
     "name": "#%%\n"
    }
   },
   "outputs": [],
   "source": [
    "bot = telebot.TeleBot(TOKEN, parse_mode=None)"
   ]
  },
  {
   "cell_type": "code",
   "execution_count": 3,
   "metadata": {
    "pycharm": {
     "is_executing": false,
     "name": "#%%\n"
    }
   },
   "outputs": [],
   "source": [
    "def log(text):\n",
    "    print(\"[{}] {}\".format(datetime.datetime.now().strftime(\"%X\"), text))\n",
    "\n",
    "\n",
    "class Meme:\n",
    "    def __init__(self, json_meme):\n",
    "        self.date = json_meme['date']\n",
    "        self.text = json_meme['text']\n",
    "        if 'copy_history' in json_meme:\n",
    "            json_meme = json_meme['copy_history'][0]\n",
    "            if self.text != \"\":\n",
    "                self.text += \"\\n\"\n",
    "            self.text += json_meme['text']\n",
    "        self.photos = []\n",
    "        if 'attachments' in json_meme:\n",
    "            for json_photo in json_meme['attachments']:\n",
    "                if json_photo['type'] == 'photo':\n",
    "                    self.photos.append(json_photo['photo']['sizes'][-1]['url'])\n",
    "\n",
    "    def send(self, chat_id):\n",
    "        if len(self.photos) == 0:\n",
    "            bot.send_message(chat_id=chat_id, text=self.text)\n",
    "        if len(self.photos) == 1:\n",
    "            bot.send_photo(chat_id=chat_id, photo=self.photos[0], caption=self.text)\n",
    "        if len(self.photos) > 1:\n",
    "            media = []\n",
    "            for photo in self.photos:\n",
    "                media.append(telebot.types.InputMediaPhoto(photo))\n",
    "            media[0].caption = self.text\n",
    "            bot.send_media_group(chat_id=chat_id, media=media)\n",
    "\n",
    "    def __lt__(self, other):\n",
    "        return self.date < other.date\n",
    "\n",
    "\n",
    "def wall_get(group_id, count=50):\n",
    "    resp = requests.get(VKpath+\"wall.get\", {'owner_id': -group_id,\n",
    "                                            'count': count,\n",
    "                                            'filter': 'owner',\n",
    "                                            'access_token': access_token,\n",
    "                                            'v': v})\n",
    "    if resp.status_code != 200:\n",
    "        return []\n",
    "    meme_list = []\n",
    "    for obj in resp.json()['response']['items']:\n",
    "        meme_list.append(Meme(obj))\n",
    "    meme_list.sort()\n",
    "    return meme_list"
   ]
  },
  {
   "cell_type": "code",
   "execution_count": 8,
   "metadata": {
    "pycharm": {
     "is_executing": false,
     "name": "#%%\n"
    }
   },
   "outputs": [
    {
     "ename": "ApiException",
     "evalue": "A request to the Telegram API was unsuccessful. The server returned HTTP 400 Bad Request. Response body:\n[b'{\"ok\":false,\"error_code\":400,\"description\":\"Bad Request: group send failed\"}']",
     "output_type": "error",
     "traceback": [
      "\u001b[0;31m---------------------------------------------------------------------------\u001b[0m",
      "\u001b[0;31mApiException\u001b[0m                              Traceback (most recent call last)",
      "\u001b[0;32m<ipython-input-8-8d91a5862e44>\u001b[0m in \u001b[0;36m<module>\u001b[0;34m\u001b[0m\n\u001b[1;32m      1\u001b[0m \u001b[0mex\u001b[0m \u001b[0;34m=\u001b[0m \u001b[0mwall_get\u001b[0m\u001b[0;34m(\u001b[0m\u001b[0;36m54732939\u001b[0m\u001b[0;34m,\u001b[0m \u001b[0;36m2\u001b[0m\u001b[0;34m)\u001b[0m\u001b[0;34m\u001b[0m\u001b[0;34m\u001b[0m\u001b[0m\n\u001b[0;32m----> 2\u001b[0;31m \u001b[0mex\u001b[0m\u001b[0;34m[\u001b[0m\u001b[0;34m-\u001b[0m\u001b[0;36m1\u001b[0m\u001b[0;34m]\u001b[0m\u001b[0;34m.\u001b[0m\u001b[0msend\u001b[0m\u001b[0;34m(\u001b[0m\u001b[0mchatID\u001b[0m\u001b[0;34m)\u001b[0m\u001b[0;34m\u001b[0m\u001b[0;34m\u001b[0m\u001b[0m\n\u001b[0m",
      "\u001b[0;32m<ipython-input-3-f69795c0ae25>\u001b[0m in \u001b[0;36msend\u001b[0;34m(self, chat_id)\u001b[0m\n\u001b[1;32m     28\u001b[0m                 \u001b[0mmedia\u001b[0m\u001b[0;34m.\u001b[0m\u001b[0mappend\u001b[0m\u001b[0;34m(\u001b[0m\u001b[0mtelebot\u001b[0m\u001b[0;34m.\u001b[0m\u001b[0mtypes\u001b[0m\u001b[0;34m.\u001b[0m\u001b[0mInputMediaPhoto\u001b[0m\u001b[0;34m(\u001b[0m\u001b[0mphoto\u001b[0m\u001b[0;34m)\u001b[0m\u001b[0;34m)\u001b[0m\u001b[0;34m\u001b[0m\u001b[0;34m\u001b[0m\u001b[0m\n\u001b[1;32m     29\u001b[0m             \u001b[0mmedia\u001b[0m\u001b[0;34m[\u001b[0m\u001b[0;36m0\u001b[0m\u001b[0;34m]\u001b[0m\u001b[0;34m.\u001b[0m\u001b[0mcaption\u001b[0m \u001b[0;34m=\u001b[0m \u001b[0mself\u001b[0m\u001b[0;34m.\u001b[0m\u001b[0mtext\u001b[0m\u001b[0;34m\u001b[0m\u001b[0;34m\u001b[0m\u001b[0m\n\u001b[0;32m---> 30\u001b[0;31m             \u001b[0mbot\u001b[0m\u001b[0;34m.\u001b[0m\u001b[0msend_media_group\u001b[0m\u001b[0;34m(\u001b[0m\u001b[0mchat_id\u001b[0m\u001b[0;34m=\u001b[0m\u001b[0mchat_id\u001b[0m\u001b[0;34m,\u001b[0m \u001b[0mmedia\u001b[0m\u001b[0;34m=\u001b[0m\u001b[0mmedia\u001b[0m\u001b[0;34m)\u001b[0m\u001b[0;34m\u001b[0m\u001b[0;34m\u001b[0m\u001b[0m\n\u001b[0m\u001b[1;32m     31\u001b[0m \u001b[0;34m\u001b[0m\u001b[0m\n\u001b[1;32m     32\u001b[0m     \u001b[0;32mdef\u001b[0m \u001b[0m__lt__\u001b[0m\u001b[0;34m(\u001b[0m\u001b[0mself\u001b[0m\u001b[0;34m,\u001b[0m \u001b[0mother\u001b[0m\u001b[0;34m)\u001b[0m\u001b[0;34m:\u001b[0m\u001b[0;34m\u001b[0m\u001b[0;34m\u001b[0m\u001b[0m\n",
      "\u001b[0;32m~/.local/lib/python3.6/site-packages/telebot/__init__.py\u001b[0m in \u001b[0;36msend_media_group\u001b[0;34m(self, chat_id, media, disable_notification, reply_to_message_id, timeout)\u001b[0m\n\u001b[1;32m    856\u001b[0m         \"\"\"\n\u001b[1;32m    857\u001b[0m         result = apihelper.send_media_group(\n\u001b[0;32m--> 858\u001b[0;31m             self.token, chat_id, media, disable_notification, reply_to_message_id, timeout)\n\u001b[0m\u001b[1;32m    859\u001b[0m         \u001b[0mret\u001b[0m \u001b[0;34m=\u001b[0m \u001b[0;34m[\u001b[0m\u001b[0;34m]\u001b[0m\u001b[0;34m\u001b[0m\u001b[0;34m\u001b[0m\u001b[0m\n\u001b[1;32m    860\u001b[0m         \u001b[0;32mfor\u001b[0m \u001b[0mmsg\u001b[0m \u001b[0;32min\u001b[0m \u001b[0mresult\u001b[0m\u001b[0;34m:\u001b[0m\u001b[0;34m\u001b[0m\u001b[0;34m\u001b[0m\u001b[0m\n",
      "\u001b[0;32m~/.local/lib/python3.6/site-packages/telebot/apihelper.py\u001b[0m in \u001b[0;36msend_media_group\u001b[0;34m(token, chat_id, media, disable_notification, reply_to_message_id, timeout)\u001b[0m\n\u001b[1;32m    332\u001b[0m         \u001b[0mtoken\u001b[0m\u001b[0;34m,\u001b[0m \u001b[0mmethod_url\u001b[0m\u001b[0;34m,\u001b[0m \u001b[0mparams\u001b[0m\u001b[0;34m=\u001b[0m\u001b[0mpayload\u001b[0m\u001b[0;34m,\u001b[0m\u001b[0;34m\u001b[0m\u001b[0;34m\u001b[0m\u001b[0m\n\u001b[1;32m    333\u001b[0m         \u001b[0mmethod\u001b[0m\u001b[0;34m=\u001b[0m\u001b[0;34m'post'\u001b[0m \u001b[0;32mif\u001b[0m \u001b[0mfiles\u001b[0m \u001b[0;32melse\u001b[0m \u001b[0;34m'get'\u001b[0m\u001b[0;34m,\u001b[0m\u001b[0;34m\u001b[0m\u001b[0;34m\u001b[0m\u001b[0m\n\u001b[0;32m--> 334\u001b[0;31m         files=files if files else None)\n\u001b[0m\u001b[1;32m    335\u001b[0m \u001b[0;34m\u001b[0m\u001b[0m\n\u001b[1;32m    336\u001b[0m \u001b[0;34m\u001b[0m\u001b[0m\n",
      "\u001b[0;32m~/.local/lib/python3.6/site-packages/telebot/apihelper.py\u001b[0m in \u001b[0;36m_make_request\u001b[0;34m(token, method_name, method, params, files)\u001b[0m\n\u001b[1;32m     67\u001b[0m         timeout=(connect_timeout, read_timeout), proxies=proxy)\n\u001b[1;32m     68\u001b[0m     \u001b[0mlogger\u001b[0m\u001b[0;34m.\u001b[0m\u001b[0mdebug\u001b[0m\u001b[0;34m(\u001b[0m\u001b[0;34m\"The server returned: '{0}'\"\u001b[0m\u001b[0;34m.\u001b[0m\u001b[0mformat\u001b[0m\u001b[0;34m(\u001b[0m\u001b[0mresult\u001b[0m\u001b[0;34m.\u001b[0m\u001b[0mtext\u001b[0m\u001b[0;34m.\u001b[0m\u001b[0mencode\u001b[0m\u001b[0;34m(\u001b[0m\u001b[0;34m'utf8'\u001b[0m\u001b[0;34m)\u001b[0m\u001b[0;34m)\u001b[0m\u001b[0;34m)\u001b[0m\u001b[0;34m\u001b[0m\u001b[0;34m\u001b[0m\u001b[0m\n\u001b[0;32m---> 69\u001b[0;31m     \u001b[0;32mreturn\u001b[0m \u001b[0m_check_result\u001b[0m\u001b[0;34m(\u001b[0m\u001b[0mmethod_name\u001b[0m\u001b[0;34m,\u001b[0m \u001b[0mresult\u001b[0m\u001b[0;34m)\u001b[0m\u001b[0;34m[\u001b[0m\u001b[0;34m'result'\u001b[0m\u001b[0;34m]\u001b[0m\u001b[0;34m\u001b[0m\u001b[0;34m\u001b[0m\u001b[0m\n\u001b[0m\u001b[1;32m     70\u001b[0m \u001b[0;34m\u001b[0m\u001b[0m\n\u001b[1;32m     71\u001b[0m \u001b[0;34m\u001b[0m\u001b[0m\n",
      "\u001b[0;32m~/.local/lib/python3.6/site-packages/telebot/apihelper.py\u001b[0m in \u001b[0;36m_check_result\u001b[0;34m(method_name, result)\u001b[0m\n\u001b[1;32m     86\u001b[0m         \u001b[0mmsg\u001b[0m \u001b[0;34m=\u001b[0m \u001b[0;34m'The server returned HTTP {0} {1}. Response body:\\n[{2}]'\u001b[0m\u001b[0;31m \u001b[0m\u001b[0;31m\\\u001b[0m\u001b[0;34m\u001b[0m\u001b[0;34m\u001b[0m\u001b[0m\n\u001b[1;32m     87\u001b[0m             \u001b[0;34m.\u001b[0m\u001b[0mformat\u001b[0m\u001b[0;34m(\u001b[0m\u001b[0mresult\u001b[0m\u001b[0;34m.\u001b[0m\u001b[0mstatus_code\u001b[0m\u001b[0;34m,\u001b[0m \u001b[0mresult\u001b[0m\u001b[0;34m.\u001b[0m\u001b[0mreason\u001b[0m\u001b[0;34m,\u001b[0m \u001b[0mresult\u001b[0m\u001b[0;34m.\u001b[0m\u001b[0mtext\u001b[0m\u001b[0;34m.\u001b[0m\u001b[0mencode\u001b[0m\u001b[0;34m(\u001b[0m\u001b[0;34m'utf8'\u001b[0m\u001b[0;34m)\u001b[0m\u001b[0;34m)\u001b[0m\u001b[0;34m\u001b[0m\u001b[0;34m\u001b[0m\u001b[0m\n\u001b[0;32m---> 88\u001b[0;31m         \u001b[0;32mraise\u001b[0m \u001b[0mApiException\u001b[0m\u001b[0;34m(\u001b[0m\u001b[0mmsg\u001b[0m\u001b[0;34m,\u001b[0m \u001b[0mmethod_name\u001b[0m\u001b[0;34m,\u001b[0m \u001b[0mresult\u001b[0m\u001b[0;34m)\u001b[0m\u001b[0;34m\u001b[0m\u001b[0;34m\u001b[0m\u001b[0m\n\u001b[0m\u001b[1;32m     89\u001b[0m \u001b[0;34m\u001b[0m\u001b[0m\n\u001b[1;32m     90\u001b[0m     \u001b[0;32mtry\u001b[0m\u001b[0;34m:\u001b[0m\u001b[0;34m\u001b[0m\u001b[0;34m\u001b[0m\u001b[0m\n",
      "\u001b[0;31mApiException\u001b[0m: A request to the Telegram API was unsuccessful. The server returned HTTP 400 Bad Request. Response body:\n[b'{\"ok\":false,\"error_code\":400,\"description\":\"Bad Request: group send failed\"}']"
     ]
    }
   ],
   "source": [
    "ex = wall_get(54732939, 2)\n",
    "ex[-1].send(chatID)"
   ]
  },
  {
   "cell_type": "code",
   "execution_count": 79,
   "metadata": {
    "pycharm": {
     "is_executing": false,
     "name": "#%%\n"
    }
   },
   "outputs": [],
   "source": [
    "class InputMediaPhoto:\n",
    "    def __init__(self, media, caption=None):\n",
    "        self.type = 'photo'\n",
    "        self.media = media\n",
    "        self.caption = None\n",
    "        \n",
    "    def to_json(self):\n",
    "        res_full = {'type': self.type,\n",
    "                'media': self.media,\n",
    "                'caption': self.caption}\n",
    "        res = {}\n",
    "        for key in res_full.keys():\n",
    "            if res_full[key] is not None:\n",
    "                res[key] = res_full[key]\n",
    "        return res\n",
    "\n",
    "\n",
    "class Update:\n",
    "    def __init__(self, json_obj):\n",
    "        self.update_id = json_obj['update_id']\n",
    "        self.chat_id = json_obj['message']['chat']['id']\n",
    "        if 'text' in json_obj['message']:\n",
    "            self.text = json_obj['message']['text']\n",
    "        else:\n",
    "            self.text = \"\"\n",
    "            \n",
    "\n",
    "class Telebot:\n",
    "    def __init__(self, token, offset=None, timeout=None):\n",
    "        self.token = token\n",
    "        self.offset = offset\n",
    "        self.timeout = timeout\n",
    "        \n",
    "    def make_request(self, method_name, params):\n",
    "        path = \"https://api.telegram.org/bot\" + self.token + \"/\" + method_name\n",
    "        new_params = {}\n",
    "        for key in params.keys():\n",
    "            if params[key] is not None:\n",
    "                new_params[key] = params[key]\n",
    "        params = new_params\n",
    "        resp = requests.get(path, json=params)\n",
    "        if resp.status_code != 200:\n",
    "            log(resp.json())\n",
    "            raise ConnectionError(\"Не удалось получить ответ от сервера.\")\n",
    "        if resp.json()['ok'] == False:\n",
    "            raise ConnectionError(\"Неправильный запрос.\")\n",
    "        return resp.json()['result']\n",
    "    \n",
    "    def send_message(self, chat_id, text):\n",
    "        method_name = r\"sendMessage\"\n",
    "        params = {'chat_id': chat_id,\n",
    "                  'text': text}\n",
    "        self.make_request(method_name, params)\n",
    "        \n",
    "    def send_photo(self, chat_id, photoURL):\n",
    "        method_name = r\"sendPhoto\"\n",
    "        params = {'chat_id': chat_id,\n",
    "                  'photo': photoURL}\n",
    "        self.make_request(method_name, params)\n",
    "        \n",
    "    def send_media_group(self, chat_id, media):\n",
    "        method_name = r\"sendMediaGroup\"\n",
    "        media = list(map(InputMediaPhoto.to_json, media))\n",
    "        params = {'chat_id': chat_id,\n",
    "                  'media': media}\n",
    "        self.make_request(method_name, params)\n",
    "        \n",
    "    def get_updates(self, offset=None, timeout=None, allowed_updates=['message']):\n",
    "        method_name = r\"getUpdates\"\n",
    "        if offset is None:\n",
    "            offset = self.offset\n",
    "        if timeout is None:\n",
    "            timeout = self.timeout\n",
    "        params = {'offset': offset,\n",
    "                  'timeout': timeout,\n",
    "                  'allowed_updates': allowed_updates}\n",
    "        updates = self.make_request(method_name, params)\n",
    "        updates = list(map(Update, updates))\n",
    "        if len(updates) != 0:\n",
    "            self.offset = updates[-1].update_id+1\n",
    "        return updates"
   ]
  },
  {
   "cell_type": "code",
   "execution_count": 80,
   "metadata": {
    "pycharm": {
     "is_executing": false,
     "name": "#%%\n"
    }
   },
   "outputs": [],
   "source": [
    "bot = Telebot(TOKEN)\n",
    "# bot.send_message(chatID-1, \"Hi\")"
   ]
  },
  {
   "cell_type": "code",
   "execution_count": 85,
   "metadata": {
    "pycharm": {
     "is_executing": false,
     "name": "#%%\n"
    }
   },
   "outputs": [
    {
     "ename": "TypeError",
     "evalue": "'InputMediaPhoto' object is not iterable",
     "output_type": "error",
     "traceback": [
      "\u001b[0;31m---------------------------------------------------------------------------\u001b[0m",
      "\u001b[0;31mTypeError\u001b[0m                                 Traceback (most recent call last)",
      "\u001b[0;32m<ipython-input-85-d80b017f00d6>\u001b[0m in \u001b[0;36m<module>\u001b[0;34m\u001b[0m\n\u001b[1;32m      1\u001b[0m \u001b[0mphoto\u001b[0m \u001b[0;34m=\u001b[0m \u001b[0mInputMediaPhoto\u001b[0m\u001b[0;34m(\u001b[0m\u001b[0;34m\"https://sun1-18.userapi.com/B_liWIvHQSlWZc-E2odXW4Hxmv9GqNXqeL38qg/gp1aRzUyTlA.jpg\"\u001b[0m\u001b[0;34m)\u001b[0m\u001b[0;34m\u001b[0m\u001b[0;34m\u001b[0m\u001b[0m\n\u001b[1;32m      2\u001b[0m \u001b[0mphotoURL\u001b[0m \u001b[0;34m=\u001b[0m \u001b[0;34m\"https://external-content.duckduckgo.com/iu/?u=http%3A%2F%2F4.bp.blogspot.com%2F-Jx21kNqFSTU%2FUXemtqPhZCI%2FAAAAAAAAh74%2FBMGSzpU6F48%2Fs1600%2Ffunny-cat-pictures-047-001.jpg&f=1&nofb=1\"\u001b[0m\u001b[0;34m\u001b[0m\u001b[0;34m\u001b[0m\u001b[0m\n\u001b[0;32m----> 3\u001b[0;31m \u001b[0mbot\u001b[0m\u001b[0;34m.\u001b[0m\u001b[0msend_media_group\u001b[0m\u001b[0;34m(\u001b[0m\u001b[0mchatID\u001b[0m\u001b[0;34m,\u001b[0m \u001b[0mphoto\u001b[0m\u001b[0;34m)\u001b[0m\u001b[0;34m\u001b[0m\u001b[0;34m\u001b[0m\u001b[0m\n\u001b[0m\u001b[1;32m      4\u001b[0m \u001b[0;31m# resp = requests.get(path+\"sendMediaGroup\", json={'chat_id': chatID,\u001b[0m\u001b[0;34m\u001b[0m\u001b[0;34m\u001b[0m\u001b[0;34m\u001b[0m\u001b[0m\n\u001b[1;32m      5\u001b[0m \u001b[0;31m#                                                 'media': [photo.to_json(), photo.to_json()]})\u001b[0m\u001b[0;34m\u001b[0m\u001b[0;34m\u001b[0m\u001b[0;34m\u001b[0m\u001b[0m\n",
      "\u001b[0;32m<ipython-input-79-ede70d5bec2b>\u001b[0m in \u001b[0;36msend_media_group\u001b[0;34m(self, chat_id, media)\u001b[0m\n\u001b[1;32m     60\u001b[0m     \u001b[0;32mdef\u001b[0m \u001b[0msend_media_group\u001b[0m\u001b[0;34m(\u001b[0m\u001b[0mself\u001b[0m\u001b[0;34m,\u001b[0m \u001b[0mchat_id\u001b[0m\u001b[0;34m,\u001b[0m \u001b[0mmedia\u001b[0m\u001b[0;34m)\u001b[0m\u001b[0;34m:\u001b[0m\u001b[0;34m\u001b[0m\u001b[0;34m\u001b[0m\u001b[0m\n\u001b[1;32m     61\u001b[0m         \u001b[0mmethod_name\u001b[0m \u001b[0;34m=\u001b[0m \u001b[0;34mr\"sendMediaGroup\"\u001b[0m\u001b[0;34m\u001b[0m\u001b[0;34m\u001b[0m\u001b[0m\n\u001b[0;32m---> 62\u001b[0;31m         \u001b[0mmedia\u001b[0m \u001b[0;34m=\u001b[0m \u001b[0mlist\u001b[0m\u001b[0;34m(\u001b[0m\u001b[0mmap\u001b[0m\u001b[0;34m(\u001b[0m\u001b[0mInputMediaPhoto\u001b[0m\u001b[0;34m.\u001b[0m\u001b[0mto_json\u001b[0m\u001b[0;34m,\u001b[0m \u001b[0mmedia\u001b[0m\u001b[0;34m)\u001b[0m\u001b[0;34m)\u001b[0m\u001b[0;34m\u001b[0m\u001b[0;34m\u001b[0m\u001b[0m\n\u001b[0m\u001b[1;32m     63\u001b[0m         params = {'chat_id': chat_id,\n\u001b[1;32m     64\u001b[0m                   'media': media}\n",
      "\u001b[0;31mTypeError\u001b[0m: 'InputMediaPhoto' object is not iterable"
     ]
    }
   ],
   "source": [
    "photo = InputMediaPhoto(\"https://sun1-18.userapi.com/B_liWIvHQSlWZc-E2odXW4Hxmv9GqNXqeL38qg/gp1aRzUyTlA.jpg\")\n",
    "photoURL = \"https://external-content.duckduckgo.com/iu/?u=http%3A%2F%2F4.bp.blogspot.com%2F-Jx21kNqFSTU%2FUXemtqPhZCI%2FAAAAAAAAh74%2FBMGSzpU6F48%2Fs1600%2Ffunny-cat-pictures-047-001.jpg&f=1&nofb=1\"\n",
    "bot.send_media_group(chatID, [photo])\n",
    "# resp = requests.get(path+\"sendMediaGroup\", json={'chat_id': chatID,\n",
    "#                                                 'media': [photo.to_json(), photo.to_json()]})\n",
    "# resp.json()\n",
    "# photo.to_json()\n",
    "# bot.get_updates(timeout=100)"
   ]
  },
  {
   "cell_type": "code",
   "execution_count": 3,
   "metadata": {
    "pycharm": {
     "is_executing": false,
     "name": "#%%\n"
    }
   },
   "outputs": [
    {
     "data": {
      "text/plain": [
       "{'error': {'error_code': 29,\n",
       "  'error_msg': 'Rate limit reached',\n",
       "  'request_params': [{'key': 'owner_id', 'value': '-157081760'},\n",
       "   {'key': 'count', 'value': '3'},\n",
       "   {'key': 'filter', 'value': 'owner'},\n",
       "   {'key': 'v', 'value': '5.122'},\n",
       "   {'key': 'method', 'value': 'wall.get'},\n",
       "   {'key': 'oauth', 'value': '1'}]}}"
      ]
     },
     "execution_count": 3,
     "metadata": {},
     "output_type": "execute_result"
    }
   ],
   "source": [
    "resp = requests.get(VKpath+\"wall.get\", {'owner_id': -157081760,\n",
    "                                            'count': 3,\n",
    "                                            'filter': 'owner',\n",
    "                                            'access_token': access_token,\n",
    "                                            'v': v})\n",
    "resp.json()"
   ]
  }
 ],
 "metadata": {
  "kernelspec": {
   "display_name": "Python 3",
   "language": "python",
   "name": "python3"
  },
  "language_info": {
   "codemirror_mode": {
    "name": "ipython",
    "version": 3
   },
   "file_extension": ".py",
   "mimetype": "text/x-python",
   "name": "python",
   "nbconvert_exporter": "python",
   "pygments_lexer": "ipython3",
   "version": "3.8.10"
  },
  "pycharm": {
   "stem_cell": {
    "cell_type": "raw",
    "metadata": {
     "collapsed": false
    },
    "source": []
   }
  }
 },
 "nbformat": 4,
 "nbformat_minor": 1
}
